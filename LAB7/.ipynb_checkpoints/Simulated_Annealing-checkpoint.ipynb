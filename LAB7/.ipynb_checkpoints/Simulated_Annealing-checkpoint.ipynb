{
 "cells": [
  {
   "cell_type": "code",
   "execution_count": 1,
   "metadata": {},
   "outputs": [],
   "source": [
    "import numpy as np\n",
    "import time"
   ]
  },
  {
   "cell_type": "markdown",
   "metadata": {},
   "source": [
    "# Simulated Annealing\n",
    "\n",
    "Solve the Sudoku problem with Simulated Annealing. You can design your own algorithm or simply refer to [Metaheuristics_can_solve_Sudoku_puzzles](https://www.researchgate.net/publication/220403361_Metaheuristics_can_solve_Sudoku_puzzles). \n",
    "\n",
    "The code provided below starts with making a problem instance and ends by visualizing the running process of SA."
   ]
  },
  {
   "cell_type": "code",
   "execution_count": 2,
   "metadata": {},
   "outputs": [
    {
     "name": "stdout",
     "output_type": "stream",
     "text": [
      "4.29 ms ± 119 µs per loop (mean ± std. dev. of 7 runs, 100 loops each)\n",
      "80.1 µs ± 1.28 µs per loop (mean ± std. dev. of 7 runs, 10000 loops each)\n"
     ]
    },
    {
     "data": {
      "text/plain": [
       "array([[1, 2, 3, 4, 5, 6, 7, 8, 9],\n",
       "       [4, 5, 6, 7, 8, 9, 1, 2, 3],\n",
       "       [7, 8, 9, 1, 2, 3, 4, 5, 6],\n",
       "       [2, 3, 4, 5, 6, 7, 8, 9, 1],\n",
       "       [5, 6, 7, 8, 9, 1, 2, 3, 4],\n",
       "       [8, 9, 1, 2, 3, 4, 5, 6, 7],\n",
       "       [3, 4, 5, 6, 7, 8, 9, 1, 2],\n",
       "       [6, 7, 8, 9, 1, 2, 3, 4, 5],\n",
       "       [9, 1, 2, 3, 4, 5, 6, 7, 8]], dtype=int32)"
      ]
     },
     "execution_count": 2,
     "metadata": {},
     "output_type": "execute_result"
    }
   ],
   "source": [
    "# making a problem instance\n",
    "def make_grid_python(n):\n",
    "    grid = np.empty((n**2, n**2), int)\n",
    "    x = 0\n",
    "    for i in range(n):\n",
    "        for j in range(n):\n",
    "            for k in range(n**2):\n",
    "                grid[n*i+j, k] = x%(n**2) + 1\n",
    "                x += 1\n",
    "            x += n\n",
    "        x += 1\n",
    "    return grid\n",
    "\n",
    "def make_grid_numpy(n):\n",
    "    return np.fromfunction(lambda i, j: (i*n+i//n+j)%(n**2)+1, (n**2, n**2), dtype=int)\n",
    "\n",
    "# a comparison between native python and numpy\n",
    "# vary n to see their performances\n",
    "n = 10\n",
    "%timeit make_grid_python(n)\n",
    "%timeit make_grid_numpy(n)\n",
    "\n",
    "# test\n",
    "grid = make_grid_numpy(3)\n",
    "grid"
   ]
  },
  {
   "cell_type": "code",
   "execution_count": 3,
   "metadata": {},
   "outputs": [
    {
     "data": {
      "text/plain": [
       "33"
      ]
     },
     "execution_count": 3,
     "metadata": {},
     "output_type": "execute_result"
    }
   ],
   "source": [
    "class Sudoku:\n",
    "    @classmethod\n",
    "    def create(cls, n, seed=303):\n",
    "        rng = np.random.default_rng(seed)\n",
    "        init_grid = make_grid_numpy(n)\n",
    "\n",
    "        # randomly mask out some cells to create a problem instance\n",
    "        # cells marked by *1* is given and fixed\n",
    "        mask = rng.integers(0, 2, size=init_grid.shape)\n",
    "        grid = init_grid*mask\n",
    "\n",
    "        return cls(n, mask, grid, seed)\n",
    "\n",
    "    def __init__(self, n, mask, grid, seed) -> None:\n",
    "        self.seed = seed\n",
    "        self.mask = mask\n",
    "        self.grid = grid\n",
    "        self.n = n\n",
    "        self.all = set(range(1, n**2+1))\n",
    "\n",
    "    def value(self):\n",
    "        # TODO: evaluate the current state, return a scalar value \n",
    "        cost = 0\n",
    "\n",
    "        for row in self.grid:\n",
    "            arr = [True for _ in range(self.n ** 2)]\n",
    "            for num in row:\n",
    "                arr[num-1] = False\n",
    "            cost += sum(arr)\n",
    "\n",
    "        for j in range(self.n ** 2):\n",
    "            arr = [True for _ in range(self.n ** 2)]\n",
    "            for i in range(self.n ** 2):\n",
    "                arr[ self.grid[i][j]-1 ] = False\n",
    "            cost += sum(arr)\n",
    "\n",
    "        return cost\n",
    "        #raise NotImplementedError()\n",
    "\n",
    "\n",
    "    def local_search(self):\n",
    "        # TODO: apply your neighborhood search operator to get the next state\n",
    "        emptyPos = np.where(self.mask == 0)\n",
    "        emptyPos = list(zip(emptyPos[0], emptyPos[1]))\n",
    "        a, b = random.randint(0, len(emptyPos)-1), random.randint(0, len(emptyPos)-1)\n",
    "        a, b = emptyPos[a], emptyPos[b]\n",
    "        x, y = int(a[0]/self.n), int(a[1]/self.n)\n",
    "        while True:\n",
    "            b = random.randint(0, len(emptyPos)-1)\n",
    "            b = emptyPos[b]\n",
    "            if b != a and int(b[0]/self.n) == x and int(b[1]/self.n) == y:\n",
    "                break\n",
    "\n",
    "        temp_grid = self.grid.copy()\n",
    "        temp_grid[a] = temp_grid[a]^temp_grid[b]\n",
    "        temp_grid[b] = temp_grid[a]^temp_grid[b]\n",
    "        temp_grid[a] = temp_grid[a]^temp_grid[b]\n",
    "        next_state = Sudoku(self.n, self.mask, temp_grid, self.seed)\n",
    "\n",
    "\n",
    "        return next_state\n",
    "\n",
    "    def init_solution(self):\n",
    "        rng = np.random.default_rng(self.seed)\n",
    "        n = self.n\n",
    "        grid = self.grid.reshape(n, n, n, n).transpose(0, 2, 1, 3)\n",
    "        for I in np.ndindex(n, n):\n",
    "            idx = grid[I]==0\n",
    "            grid[I][idx] = rng.permutation(list(self.all-set(grid[I].flat)))\n",
    "        return self\n",
    "        \n",
    "    def __repr__(self) -> str:\n",
    "        return self.grid.__repr__()\n",
    "\n",
    "# test\n",
    "sudoku = Sudoku.create(3)\n",
    "sudoku.init_solution()\n",
    "sudoku\n",
    "sudoku.value()"
   ]
  },
  {
   "cell_type": "code",
   "execution_count": 4,
   "metadata": {},
   "outputs": [],
   "source": [
    "import random\n",
    "\n",
    "\n",
    "def simulated_annealing(initial:Sudoku, schedule, halt, log_interval=200):\n",
    "    state = initial.init_solution()\n",
    "    t = 0           # time step\n",
    "    T = schedule(t) # temperature\n",
    "    f = [state.value()] # a recording of values\n",
    "    while not halt(T):\n",
    "        T = schedule(t)\n",
    "        new_state = state.local_search()\n",
    "        new_value = new_state.value()\n",
    "        # TODO: implement the replacement here\n",
    "        if new_value < state.value():\n",
    "            state = new_state\n",
    "        else:\n",
    "            P = np.exp((state.value() - new_value)/T)\n",
    "            ret = random.random()\n",
    "            if ret < P:\n",
    "                state = new_state\n",
    "                f.append(new_value)\n",
    "        if new_value == 0:\n",
    "            print(\"find solution!\")\n",
    "            break\n",
    "        # update time and temperature\n",
    "        if t % log_interval == 0:\n",
    "            print(f\"step {t}: T={T}, current_value={state.value()}\")\n",
    "        t += 1\n",
    "        T = schedule(t)\n",
    "    print(f\"step {t}: T={T}, current_value={state.value()}\")\n",
    "    return state, f"
   ]
  },
  {
   "cell_type": "code",
   "execution_count": null,
   "metadata": {},
   "outputs": [
    {
     "name": "stdout",
     "output_type": "stream",
     "text": [
      "step 0: T=1.0, current_value=126\n",
      "step 200: T=0.8186488294786356, current_value=79\n",
      "step 400: T=0.6701859060067401, current_value=69\n",
      "step 600: T=0.5486469074854967, current_value=59\n",
      "step 800: T=0.4491491486100751, current_value=57\n",
      "step 1000: T=0.36769542477096373, current_value=46\n",
      "step 1200: T=0.3010134290933991, current_value=39\n",
      "step 1400: T=0.2464242913846615, current_value=33\n",
      "step 1600: T=0.20173495769715533, current_value=31\n",
      "step 1800: T=0.16515008698369826, current_value=31\n",
      "step 2000: T=0.13519992539749945, current_value=28\n",
      "step 2200: T=0.11068126067226176, current_value=24\n",
      "step 2400: T=0.09060908449456684, current_value=22\n",
      "step 2600: T=0.07417702096160793, current_value=21\n",
      "step 2800: T=0.060724931384432544, current_value=18\n",
      "step 3000: T=0.04971239399803616, current_value=16\n",
      "step 3200: T=0.04069699315707305, current_value=14\n",
      "step 3400: T=0.033316545811337896, current_value=14\n"
     ]
    }
   ],
   "source": [
    "import matplotlib.pyplot as plt\n",
    "\n",
    "# define your own schedule and halt condition\n",
    "# run the algorithm on different n with different settings\n",
    "n = 4\n",
    "solution, record = simulated_annealing(\n",
    "    initial=Sudoku.create(n), \n",
    "    schedule=lambda t: 0.999**t,\n",
    "    halt=lambda T: T<1e-9\n",
    ")\n",
    "solution, solution.value()"
   ]
  },
  {
   "cell_type": "code",
   "execution_count": null,
   "metadata": {},
   "outputs": [],
   "source": [
    "# visualize the curve\n",
    "plt.plot(record)\n",
    "plt.xlabel(\"time step\")\n",
    "plt.ylabel(\"value\")"
   ]
  }
 ],
 "metadata": {
  "interpreter": {
   "hash": "dc1b36ca92b83d5ef109eaced03555f57acee2abd9fee9dc0fa9bba105170b52"
  },
  "kernelspec": {
   "display_name": "Python 3 (ipykernel)",
   "language": "python",
   "name": "python3"
  },
  "language_info": {
   "codemirror_mode": {
    "name": "ipython",
    "version": 3
   },
   "file_extension": ".py",
   "mimetype": "text/x-python",
   "name": "python",
   "nbconvert_exporter": "python",
   "pygments_lexer": "ipython3",
   "version": "3.8.5"
  }
 },
 "nbformat": 4,
 "nbformat_minor": 2
}
