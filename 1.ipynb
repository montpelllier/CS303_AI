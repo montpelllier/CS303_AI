{
 "cells": [
  {
   "cell_type": "code",
   "execution_count": 1,
   "metadata": {
    "collapsed": true
   },
   "outputs": [
    {
     "name": "stdout",
     "output_type": "stream",
     "text": [
      "Tom Quack\n",
      "Fox Quack\n"
     ]
    }
   ],
   "source": [
    "class Animal:\n",
    "    def __init__(self,name):\n",
    "        self.name = name\n",
    "\n",
    "class Duck(Animal):\n",
    "    def __init__(self,name):\n",
    "        super(Duck,self).__init__(name)\n",
    "    def quack(self):\n",
    "        print(self.name,'Quack')\n",
    "\n",
    "class Dog(Animal):\n",
    "    def __init__(self,name):\n",
    "        super(Dog,self).__init__(name)\n",
    "    def quack(self):\n",
    "        print(self.name,'Quack')\n",
    "\n",
    "def testDuck(x):\n",
    "    x.quack()\n",
    "\n",
    "duck = Duck('Tom')\n",
    "dog = Dog('Fox')\n",
    "testDuck(duck)\n",
    "testDuck(dog)\n"
   ]
  },
  {
   "cell_type": "code",
   "execution_count": 2,
   "outputs": [
    {
     "name": "stdout",
     "output_type": "stream",
     "text": [
      "2   2\n",
      "8   1\n",
      "9   10\n"
     ]
    }
   ],
   "source": [
    "import numpy as np\n",
    "\n",
    "li = [(2,2),(8,1),(9,10)]\n",
    "\n",
    "for x, y in li:\n",
    "    print(x,\" \",y)"
   ],
   "metadata": {
    "collapsed": false,
    "pycharm": {
     "name": "#%%\n"
    }
   }
  }
 ],
 "metadata": {
  "kernelspec": {
   "display_name": "Python 3",
   "language": "python",
   "name": "python3"
  },
  "language_info": {
   "codemirror_mode": {
    "name": "ipython",
    "version": 2
   },
   "file_extension": ".py",
   "mimetype": "text/x-python",
   "name": "python",
   "nbconvert_exporter": "python",
   "pygments_lexer": "ipython2",
   "version": "2.7.6"
  }
 },
 "nbformat": 4,
 "nbformat_minor": 0
}